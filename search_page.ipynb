{
 "cells": [
  {
   "cell_type": "code",
   "execution_count": 61,
   "metadata": {},
   "outputs": [],
   "source": [
    "import time \n",
    "from bs4 import BeautifulSoup\n",
    "import requests\n",
    "import pandas as pd\n",
    "import random\n",
    "import datetime\n",
    "import csv\n",
    "import undetected_chromedriver as uc\n",
    "import pandas as pd\n",
    "\n",
    "\n",
    "initial_url = 'http://liuyan.people.com.cn/home'\n",
    "driver = uc.Chrome()\n",
    "driver.get(initial_url)\n",
    "\n"
   ]
  },
  {
   "cell_type": "code",
   "execution_count": 62,
   "metadata": {},
   "outputs": [],
   "source": [
    "rearch_keyword = '停气'"
   ]
  },
  {
   "cell_type": "code",
   "execution_count": 63,
   "metadata": {},
   "outputs": [],
   "source": [
    "#input the keyword in search box /html/body/div[1]/aside/div[1]/div[2]/div/div[1]/input\n",
    "search_box = driver.find_element('xpath', '/html/body/div[1]/aside/div[1]/div[2]/div/div[1]/input')\n",
    "search_box.send_keys(rearch_keyword)\n",
    "\n",
    "search_button = driver.find_element('xpath', '/html/body/div[1]/aside/div[1]/div[2]/span')\n",
    "search_button.click()\n"
   ]
  },
  {
   "cell_type": "code",
   "execution_count": 65,
   "metadata": {},
   "outputs": [],
   "source": [
    "#choose order /html/body/div[1]/div[2]/main/div/div/div[3]/div/form/div/div[7]/div/div/span/span/i\n",
    "click_order_btn = driver.find_element('xpath', '/html/body/div[1]/div[2]/main/div/div/div[3]/div/form/div/div[7]/div/div/span/span/i')\n",
    "click_order_btn.click()\n",
    "\n",
    "\n"
   ]
  },
  {
   "cell_type": "code",
   "execution_count": 17,
   "metadata": {},
   "outputs": [],
   "source": [
    "#click \"more\" btn /html/body/div[1]/div[2]/main/div/div/div[3]/div/div[3]\n",
    "click_more_btn = driver.find_element('xpath', '/html/body/div[1]/div[2]/main/div/div/div[3]/div/div[3]')\n",
    "click_more_btn.click()\n"
   ]
  },
  {
   "cell_type": "code",
   "execution_count": 148,
   "metadata": {},
   "outputs": [
    {
     "name": "stdout",
     "output_type": "stream",
     "text": [
      "2023-01-25 07:52\n",
      "2023-01-24 23:05\n",
      "2023-01-24 22:24\n",
      "2023-01-24 22:18\n",
      "2023-01-24 21:26\n",
      "2023-01-24 19:41\n",
      "2023-01-24 18:48\n",
      "2023-01-23 23:25\n",
      "2023-01-23 19:26\n",
      "2023-01-23 10:19\n"
     ]
    }
   ],
   "source": [
    "content = BeautifulSoup(driver.page_source, 'html.parser')\n",
    "\n",
    "replyIDs = content.find_all('span', class_='t-mr1 t-ml1')\n",
    "ID_num = 0\n",
    "\n",
    "page_entries = []\n",
    "ingle_entry = {}\n",
    "\n",
    "for i in replyIDs:\n",
    "    single_entry = {}\n",
    "    \n",
    "    replyID = i.text\n",
    "    replyID = replyID[3:]\n",
    "    # print(replyID)\n",
    "    reply_object = content.find_all('div', class_='replyObject')\n",
    "    reply_object = reply_object[ID_num].text[5:]\n",
    "    # print(reply_object)\n",
    "    # print(ID_num)\n",
    "\n",
    "    tabList = content.find_all('div', class_='tabList')\n",
    "    tabList = tabList[ID_num].text.split(' ', 2)\n",
    "    replyInfoHead = tabList[0]\n",
    "    typeNameD = tabList[1]\n",
    "    stateInfo = tabList[2]\n",
    "    # print(replyInfoHead)\n",
    "    # print(typeNameD)\n",
    "    # print(stateInfo)\n",
    "    single_url = 'http://liuyan.people.com.cn/threads/content?tid=' + replyID + '&from=search'\n",
    "    # print(single_url)\n",
    "\n",
    "    headMainS_fl = content.find_all('div', class_='headMainS fl')[ID_num].text.split(' ', 2)[0]\n",
    "    replyDate = headMainS_fl[15:]\n",
    "    # print(headMainS_fl)\n",
    "    print(replyDate)\n",
    "\n",
    "    ID_num += 1\n",
    "\n",
    "    single_entry['replyID'] = replyID\n",
    "    single_entry['replyDate'] = replyDate\n",
    "    single_entry['reply_object'] = reply_object\n",
    "    single_entry['replyInfoHead'] = replyInfoHead\n",
    "    single_entry['typeNameD'] = typeNameD\n",
    "    single_entry['stateInfo'] = stateInfo\n",
    "    single_entry['single_url'] = single_url\n",
    "\n",
    "    page_entries.append(single_entry)\n",
    "\n",
    "    with open('page_entries.csv', 'a', encoding='utf-8-sig', newline='') as f:\n",
    "        writer = csv.writer(f)\n",
    "        writer.writerow(single_entry.values())\n",
    "    \n",
    "\n",
    "\n"
   ]
  },
  {
   "cell_type": "markdown",
   "metadata": {},
   "source": []
  },
  {
   "cell_type": "code",
   "execution_count": 147,
   "metadata": {},
   "outputs": [],
   "source": [
    "page_entries = []\n",
    "ingle_entry = {}"
   ]
  },
  {
   "cell_type": "code",
   "execution_count": 152,
   "metadata": {},
   "outputs": [
    {
     "ename": "InvalidArgumentException",
     "evalue": "Message: invalid argument: invalid locator\n  (Session info: chrome=109.0.5414.119)\nStacktrace:\n0   2b3a4a405e49fd3c_chromedriver       0x000000010305efa8 2b3a4a405e49fd3c_chromedriver + 4886440\n1   2b3a4a405e49fd3c_chromedriver       0x0000000102fdc643 2b3a4a405e49fd3c_chromedriver + 4351555\n2   2b3a4a405e49fd3c_chromedriver       0x0000000102c2ab27 2b3a4a405e49fd3c_chromedriver + 477991\n3   2b3a4a405e49fd3c_chromedriver       0x0000000102c6f17d 2b3a4a405e49fd3c_chromedriver + 758141\n4   2b3a4a405e49fd3c_chromedriver       0x0000000102c6f9c1 2b3a4a405e49fd3c_chromedriver + 760257\n5   2b3a4a405e49fd3c_chromedriver       0x0000000102cb3204 2b3a4a405e49fd3c_chromedriver + 1036804\n6   2b3a4a405e49fd3c_chromedriver       0x0000000102c955fd 2b3a4a405e49fd3c_chromedriver + 914941\n7   2b3a4a405e49fd3c_chromedriver       0x0000000102cb05fe 2b3a4a405e49fd3c_chromedriver + 1025534\n8   2b3a4a405e49fd3c_chromedriver       0x0000000102c953a3 2b3a4a405e49fd3c_chromedriver + 914339\n9   2b3a4a405e49fd3c_chromedriver       0x0000000102c5f57f 2b3a4a405e49fd3c_chromedriver + 693631\n10  2b3a4a405e49fd3c_chromedriver       0x0000000102c60b1e 2b3a4a405e49fd3c_chromedriver + 699166\n11  2b3a4a405e49fd3c_chromedriver       0x000000010302bb9e 2b3a4a405e49fd3c_chromedriver + 4676510\n12  2b3a4a405e49fd3c_chromedriver       0x000000010303091e 2b3a4a405e49fd3c_chromedriver + 4696350\n13  2b3a4a405e49fd3c_chromedriver       0x000000010303819f 2b3a4a405e49fd3c_chromedriver + 4727199\n14  2b3a4a405e49fd3c_chromedriver       0x000000010303181a 2b3a4a405e49fd3c_chromedriver + 4700186\n15  2b3a4a405e49fd3c_chromedriver       0x0000000103004a62 2b3a4a405e49fd3c_chromedriver + 4516450\n16  2b3a4a405e49fd3c_chromedriver       0x00000001030508c8 2b3a4a405e49fd3c_chromedriver + 4827336\n17  2b3a4a405e49fd3c_chromedriver       0x0000000103050a45 2b3a4a405e49fd3c_chromedriver + 4827717\n18  2b3a4a405e49fd3c_chromedriver       0x00000001030667ef 2b3a4a405e49fd3c_chromedriver + 4917231\n19  libsystem_pthread.dylib             0x00007ff807e5d259 _pthread_start + 125\n20  libsystem_pthread.dylib             0x00007ff807e58c7b thread_start + 15\n",
     "output_type": "error",
     "traceback": [
      "\u001b[0;31m---------------------------------------------------------------------------\u001b[0m",
      "\u001b[0;31mInvalidArgumentException\u001b[0m                  Traceback (most recent call last)",
      "Cell \u001b[0;32mIn [152], line 2\u001b[0m\n\u001b[1;32m      1\u001b[0m \u001b[39m#click \"more\" btn /html/body/div[1]/div[2]/main/div/div/div[3]/div/div[3]\u001b[39;00m\n\u001b[0;32m----> 2\u001b[0m click_more_btn \u001b[39m=\u001b[39m driver\u001b[39m.\u001b[39;49mfind_element(\u001b[39m'\u001b[39;49m\u001b[39m/html/body/div[1]/div[2]/main/div/div/div[3]/div/div[3]\u001b[39;49m\u001b[39m'\u001b[39;49m)\n\u001b[1;32m      3\u001b[0m click_more_btn\u001b[39m.\u001b[39mclick()\n",
      "File \u001b[0;32m~/.pyenv/versions/3.11.0rc2/lib/python3.11/site-packages/selenium/webdriver/remote/webdriver.py:861\u001b[0m, in \u001b[0;36mWebDriver.find_element\u001b[0;34m(self, by, value)\u001b[0m\n\u001b[1;32m    858\u001b[0m     by \u001b[39m=\u001b[39m By\u001b[39m.\u001b[39mCSS_SELECTOR\n\u001b[1;32m    859\u001b[0m     value \u001b[39m=\u001b[39m \u001b[39m'\u001b[39m\u001b[39m[name=\u001b[39m\u001b[39m\"\u001b[39m\u001b[39m%s\u001b[39;00m\u001b[39m\"\u001b[39m\u001b[39m]\u001b[39m\u001b[39m'\u001b[39m \u001b[39m%\u001b[39m value\n\u001b[0;32m--> 861\u001b[0m \u001b[39mreturn\u001b[39;00m \u001b[39mself\u001b[39;49m\u001b[39m.\u001b[39;49mexecute(Command\u001b[39m.\u001b[39;49mFIND_ELEMENT, {\u001b[39m\"\u001b[39;49m\u001b[39musing\u001b[39;49m\u001b[39m\"\u001b[39;49m: by, \u001b[39m\"\u001b[39;49m\u001b[39mvalue\u001b[39;49m\u001b[39m\"\u001b[39;49m: value})[\u001b[39m\"\u001b[39m\u001b[39mvalue\u001b[39m\u001b[39m\"\u001b[39m]\n",
      "File \u001b[0;32m~/.pyenv/versions/3.11.0rc2/lib/python3.11/site-packages/selenium/webdriver/remote/webdriver.py:444\u001b[0m, in \u001b[0;36mWebDriver.execute\u001b[0;34m(self, driver_command, params)\u001b[0m\n\u001b[1;32m    442\u001b[0m response \u001b[39m=\u001b[39m \u001b[39mself\u001b[39m\u001b[39m.\u001b[39mcommand_executor\u001b[39m.\u001b[39mexecute(driver_command, params)\n\u001b[1;32m    443\u001b[0m \u001b[39mif\u001b[39;00m response:\n\u001b[0;32m--> 444\u001b[0m     \u001b[39mself\u001b[39;49m\u001b[39m.\u001b[39;49merror_handler\u001b[39m.\u001b[39;49mcheck_response(response)\n\u001b[1;32m    445\u001b[0m     response[\u001b[39m\"\u001b[39m\u001b[39mvalue\u001b[39m\u001b[39m\"\u001b[39m] \u001b[39m=\u001b[39m \u001b[39mself\u001b[39m\u001b[39m.\u001b[39m_unwrap_value(response\u001b[39m.\u001b[39mget(\u001b[39m\"\u001b[39m\u001b[39mvalue\u001b[39m\u001b[39m\"\u001b[39m, \u001b[39mNone\u001b[39;00m))\n\u001b[1;32m    446\u001b[0m     \u001b[39mreturn\u001b[39;00m response\n",
      "File \u001b[0;32m~/.pyenv/versions/3.11.0rc2/lib/python3.11/site-packages/selenium/webdriver/remote/errorhandler.py:249\u001b[0m, in \u001b[0;36mErrorHandler.check_response\u001b[0;34m(self, response)\u001b[0m\n\u001b[1;32m    247\u001b[0m         alert_text \u001b[39m=\u001b[39m value[\u001b[39m\"\u001b[39m\u001b[39malert\u001b[39m\u001b[39m\"\u001b[39m]\u001b[39m.\u001b[39mget(\u001b[39m\"\u001b[39m\u001b[39mtext\u001b[39m\u001b[39m\"\u001b[39m)\n\u001b[1;32m    248\u001b[0m     \u001b[39mraise\u001b[39;00m exception_class(message, screen, stacktrace, alert_text)  \u001b[39m# type: ignore[call-arg]  # mypy is not smart enough here\u001b[39;00m\n\u001b[0;32m--> 249\u001b[0m \u001b[39mraise\u001b[39;00m exception_class(message, screen, stacktrace)\n",
      "\u001b[0;31mInvalidArgumentException\u001b[0m: Message: invalid argument: invalid locator\n  (Session info: chrome=109.0.5414.119)\nStacktrace:\n0   2b3a4a405e49fd3c_chromedriver       0x000000010305efa8 2b3a4a405e49fd3c_chromedriver + 4886440\n1   2b3a4a405e49fd3c_chromedriver       0x0000000102fdc643 2b3a4a405e49fd3c_chromedriver + 4351555\n2   2b3a4a405e49fd3c_chromedriver       0x0000000102c2ab27 2b3a4a405e49fd3c_chromedriver + 477991\n3   2b3a4a405e49fd3c_chromedriver       0x0000000102c6f17d 2b3a4a405e49fd3c_chromedriver + 758141\n4   2b3a4a405e49fd3c_chromedriver       0x0000000102c6f9c1 2b3a4a405e49fd3c_chromedriver + 760257\n5   2b3a4a405e49fd3c_chromedriver       0x0000000102cb3204 2b3a4a405e49fd3c_chromedriver + 1036804\n6   2b3a4a405e49fd3c_chromedriver       0x0000000102c955fd 2b3a4a405e49fd3c_chromedriver + 914941\n7   2b3a4a405e49fd3c_chromedriver       0x0000000102cb05fe 2b3a4a405e49fd3c_chromedriver + 1025534\n8   2b3a4a405e49fd3c_chromedriver       0x0000000102c953a3 2b3a4a405e49fd3c_chromedriver + 914339\n9   2b3a4a405e49fd3c_chromedriver       0x0000000102c5f57f 2b3a4a405e49fd3c_chromedriver + 693631\n10  2b3a4a405e49fd3c_chromedriver       0x0000000102c60b1e 2b3a4a405e49fd3c_chromedriver + 699166\n11  2b3a4a405e49fd3c_chromedriver       0x000000010302bb9e 2b3a4a405e49fd3c_chromedriver + 4676510\n12  2b3a4a405e49fd3c_chromedriver       0x000000010303091e 2b3a4a405e49fd3c_chromedriver + 4696350\n13  2b3a4a405e49fd3c_chromedriver       0x000000010303819f 2b3a4a405e49fd3c_chromedriver + 4727199\n14  2b3a4a405e49fd3c_chromedriver       0x000000010303181a 2b3a4a405e49fd3c_chromedriver + 4700186\n15  2b3a4a405e49fd3c_chromedriver       0x0000000103004a62 2b3a4a405e49fd3c_chromedriver + 4516450\n16  2b3a4a405e49fd3c_chromedriver       0x00000001030508c8 2b3a4a405e49fd3c_chromedriver + 4827336\n17  2b3a4a405e49fd3c_chromedriver       0x0000000103050a45 2b3a4a405e49fd3c_chromedriver + 4827717\n18  2b3a4a405e49fd3c_chromedriver       0x00000001030667ef 2b3a4a405e49fd3c_chromedriver + 4917231\n19  libsystem_pthread.dylib             0x00007ff807e5d259 _pthread_start + 125\n20  libsystem_pthread.dylib             0x00007ff807e58c7b thread_start + 15\n"
     ]
    }
   ],
   "source": [
    "#click \"more\" btn /html/body/div[1]/div[2]/main/div/div/div[3]/div/div[3]\n",
    "click_more_btn = driver.find_element('/html/body/div[1]/div[2]/main/div/div/div[3]/div/div[3]')\n",
    "click_more_btn.click()\n"
   ]
  }
 ],
 "metadata": {
  "kernelspec": {
   "display_name": "Python 3",
   "language": "python",
   "name": "python3"
  },
  "language_info": {
   "codemirror_mode": {
    "name": "ipython",
    "version": 3
   },
   "file_extension": ".py",
   "mimetype": "text/x-python",
   "name": "python",
   "nbconvert_exporter": "python",
   "pygments_lexer": "ipython3",
   "version": "3.11.0rc2"
  },
  "orig_nbformat": 4,
  "vscode": {
   "interpreter": {
    "hash": "e90d6f730404473425c714071b0fe103c0a531102113070eae46c99bdeea19ae"
   }
  }
 },
 "nbformat": 4,
 "nbformat_minor": 2
}
