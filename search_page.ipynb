{
 "cells": [
  {
   "cell_type": "code",
   "execution_count": 17,
   "metadata": {},
   "outputs": [],
   "source": [
    "import time \n",
    "from bs4 import BeautifulSoup\n",
    "import requests\n",
    "import pandas as pd\n",
    "import random\n",
    "import datetime\n",
    "import csv\n",
    "import undetected_chromedriver as uc\n",
    "import pandas as pd\n",
    "\n",
    "\n",
    "initial_url = 'http://liuyan.people.com.cn/home'\n",
    "driver = uc.Chrome()\n",
    "driver.get(initial_url)\n",
    "\n"
   ]
  },
  {
   "cell_type": "code",
   "execution_count": 18,
   "metadata": {},
   "outputs": [],
   "source": [
    "rearch_keyword = '停气'"
   ]
  },
  {
   "cell_type": "code",
   "execution_count": 30,
   "metadata": {},
   "outputs": [],
   "source": [
    "#search box /html/body/div[1]/aside/div[1]/div[2]/div/div[1]/input\n",
    "search_box = driver.find_element('xpath', '/html/body/div[1]/aside/div[1]/div[2]/div/div[1]/input')\n",
    "search_box.send_keys(rearch_keyword)\n",
    "\n",
    "search_button = driver.find_element('xpath', '/html/body/div[1]/aside/div[1]/div[2]/span')\n",
    "search_button.click()\n"
   ]
  },
  {
   "cell_type": "code",
   "execution_count": 32,
   "metadata": {},
   "outputs": [],
   "source": [
    "#choose order /html/body/div[4]/div[1]/div[1]/ul/li[2]/span 时间倒序\n",
    "click_order_btn_1 = driver.find_element('xpath', '/html/body/div[1]/div[2]/main/div/div/div[3]/div/form/div/div[7]/div/div/input')\n",
    "click_order_btn_1.click()\n",
    "\n",
    "click_order_btn_2 = driver.find_element('xpath', '/html/body/div[4]/div[1]/div[1]/ul/li[2]/span')\n",
    "click_order_btn_2.click()\n"
   ]
  },
  {
   "cell_type": "code",
   "execution_count": 34,
   "metadata": {},
   "outputs": [],
   "source": [
    "page_entries = []\n",
    "single_entry = {}"
   ]
  },
  {
   "cell_type": "code",
   "execution_count": 35,
   "metadata": {},
   "outputs": [
    {
     "name": "stdout",
     "output_type": "stream",
     "text": [
      "2023-01-25 07:52\n",
      "2023-01-24 23:05\n",
      "2023-01-24 22:24\n",
      "2023-01-24 22:18\n",
      "2023-01-24 21:26\n",
      "2023-01-24 19:41\n",
      "2023-01-24 18:48\n",
      "2023-01-23 23:25\n",
      "2023-01-23 19:26\n",
      "2023-01-23 10:19\n",
      "10\n",
      "2023-01-22 08:15\n",
      "2023-01-21 10:13\n",
      "2023-01-20 21:05\n",
      "2023-01-19 21:43\n",
      "2023-01-19 11:15\n",
      "2023-01-18 22:39\n",
      "2023-01-18 02:11\n",
      "2023-01-17 10:18\n",
      "2023-01-17 10:00\n",
      "2023-01-17 09:32\n",
      "30\n",
      "50\n"
     ]
    }
   ],
   "source": [
    "clik_more_times = 3\n",
    "ID_num = 0\n",
    "entry_count = 0\n",
    "\n",
    "for click_times in range(clik_more_times):\n",
    "\n",
    "    content = BeautifulSoup(driver.page_source, 'html.parser')\n",
    "    replyIDs = content.find_all('span', class_='t-mr1 t-ml1')\n",
    "    total_entry_num = len(replyIDs)\n",
    "\n",
    "    page_entries = []\n",
    "    \n",
    "    for i in replyIDs[entry_count:total_entry_num]:\n",
    "\n",
    "        single_entry = {}\n",
    "        \n",
    "        replyID = i.text\n",
    "        replyID = replyID[3:]\n",
    "        # print(replyID)\n",
    "\n",
    "        reply_object = content.find_all('div', class_='replyObject')\n",
    "        reply_object = reply_object[ID_num].text[5:]\n",
    "        # print(reply_object)\n",
    "        # print(ID_num)\n",
    "\n",
    "        tabList = content.find_all('div', class_='tabList')\n",
    "        tabList = tabList[ID_num].text.split(' ', 2)\n",
    "        replyInfoHead = tabList[0]\n",
    "        typeNameD = tabList[1]\n",
    "        stateInfo = tabList[2]\n",
    "        # print(replyInfoHead)\n",
    "        # print(typeNameD)\n",
    "        # print(stateInfo)\n",
    "        single_url = 'http://liuyan.people.com.cn/threads/content?tid=' + replyID + '&from=search'\n",
    "        # print(single_url)\n",
    "\n",
    "        headMainS_fl = content.find_all('div', class_='headMainS fl')[ID_num].text.split(' ', 2)[0]\n",
    "        replyDate = headMainS_fl[15:]\n",
    "        # print(headMainS_fl)\n",
    "        print(replyDate)\n",
    "\n",
    "        ID_num += 1\n",
    "\n",
    "        single_entry['replyID'] = replyID\n",
    "        single_entry['replyDate'] = replyDate\n",
    "        single_entry['reply_object'] = reply_object\n",
    "        single_entry['replyInfoHead'] = replyInfoHead\n",
    "        single_entry['typeNameD'] = typeNameD\n",
    "        single_entry['stateInfo'] = stateInfo\n",
    "        single_entry['single_url'] = single_url\n",
    "\n",
    "        page_entries.append(single_entry)\n",
    "\n",
    "        with open('page_entries.csv', 'a', encoding='utf-8-sig', newline='') as f:\n",
    "            writer = csv.writer(f)\n",
    "            writer.writerow(single_entry.values())\n",
    "    \n",
    "    entry_count = entry_count + 10\n",
    "    print(entry_count)\n",
    "\n",
    "    #click \"more\" btn /html/body/div[1]/div[2]/main/div/div/div[3]/div/div[3] 加载更多\n",
    "\n",
    "    click_more_btn = driver.find_element('xpath', '/html/body/div[1]/div[2]/main/div/div/div[3]/div/div[3]')\n",
    "    click_more_btn.click()\n",
    "    time.sleep(3)\n",
    "\n",
    "\n"
   ]
  },
  {
   "cell_type": "code",
   "execution_count": 147,
   "metadata": {},
   "outputs": [],
   "source": [
    "page_entries = []\n",
    "ingle_entry = {}"
   ]
  },
  {
   "cell_type": "code",
   "execution_count": 15,
   "metadata": {},
   "outputs": [],
   "source": [
    "#click \"more\" btn /html/body/div[1]/div[2]/main/div/div/div[3]/div/div[3] 加载更多\n",
    "click_more_btn = driver.find_element('xpath', '/html/body/div[1]/div[2]/main/div/div/div[3]/div/div[3]')\n",
    "click_more_btn.click()\n"
   ]
  }
 ],
 "metadata": {
  "kernelspec": {
   "display_name": "Python 3",
   "language": "python",
   "name": "python3"
  },
  "language_info": {
   "codemirror_mode": {
    "name": "ipython",
    "version": 3
   },
   "file_extension": ".py",
   "mimetype": "text/x-python",
   "name": "python",
   "nbconvert_exporter": "python",
   "pygments_lexer": "ipython3",
   "version": "3.11.0rc2"
  },
  "orig_nbformat": 4,
  "vscode": {
   "interpreter": {
    "hash": "e90d6f730404473425c714071b0fe103c0a531102113070eae46c99bdeea19ae"
   }
  }
 },
 "nbformat": 4,
 "nbformat_minor": 2
}
