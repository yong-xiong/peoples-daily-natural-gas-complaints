{
 "cells": [
  {
   "cell_type": "code",
   "execution_count": 6,
   "metadata": {},
   "outputs": [],
   "source": [
    "import time \n",
    "from bs4 import BeautifulSoup\n",
    "import requests\n",
    "import pandas as pd\n",
    "import random\n",
    "import datetime\n",
    "import csv\n",
    "import undetected_chromedriver as uc\n",
    "import pandas as pd\n"
   ]
  },
  {
   "cell_type": "code",
   "execution_count": 74,
   "metadata": {},
   "outputs": [],
   "source": [
    "url = 'http://liuyan.people.com.cn/threads/content?tid=17117507&from=search'\n"
   ]
  },
  {
   "cell_type": "code",
   "execution_count": 75,
   "metadata": {},
   "outputs": [],
   "source": [
    "driver = uc.Chrome()\n",
    "driver.get(url)\n"
   ]
  },
  {
   "cell_type": "code",
   "execution_count": 76,
   "metadata": {},
   "outputs": [],
   "source": [
    "content = BeautifulSoup(driver.page_source, 'html.parser')\n"
   ]
  },
  {
   "cell_type": "code",
   "execution_count": null,
   "metadata": {},
   "outputs": [],
   "source": []
  },
  {
   "cell_type": "code",
   "execution_count": 77,
   "metadata": {},
   "outputs": [
    {
     "data": {
      "text/plain": [
       "'农村煤改气，现在晚上没气取暖'"
      ]
     },
     "execution_count": 77,
     "metadata": {},
     "output_type": "execute_result"
    }
   ],
   "source": [
    "title = content.find('h1', class_='fl').text\n",
    "title"
   ]
  },
  {
   "cell_type": "code",
   "execution_count": 105,
   "metadata": {},
   "outputs": [
    {
     "data": {
      "text/plain": [
       "'留言对象：河北省委书记倪岳峰'"
      ]
     },
     "execution_count": 105,
     "metadata": {},
     "output_type": "execute_result"
    }
   ],
   "source": [
    "reply_object = content.find('div', class_='replyObject').text\n",
    "reply_object"
   ]
  },
  {
   "cell_type": "code",
   "execution_count": 96,
   "metadata": {},
   "outputs": [
    {
     "data": {
      "text/plain": [
       "'农村煤改气，现在晚上没气取暖'"
      ]
     },
     "execution_count": 96,
     "metadata": {},
     "output_type": "execute_result"
    }
   ],
   "source": [
    "replyInfoHead = content.find('h1', class_='fl').text\n",
    "replyInfoHead"
   ]
  },
  {
   "cell_type": "code",
   "execution_count": 103,
   "metadata": {},
   "outputs": [
    {
     "data": {
      "text/plain": [
       "'办理中'"
      ]
     },
     "execution_count": 103,
     "metadata": {},
     "output_type": "execute_result"
    }
   ],
   "source": [
    "typeNameD = content.find('p', class_='typeNameD').text \n",
    "domainName = content.find('p', class_='domainName').text\n",
    "stateInfo = content.find('p', class_='stateInfo').text\n",
    "stateInfo\n",
    "\n",
    "\n"
   ]
  },
  {
   "cell_type": "code",
   "execution_count": 81,
   "metadata": {},
   "outputs": [
    {
     "name": "stdout",
     "output_type": "stream",
     "text": [
      "么***\n",
      "17117507\n",
      "2023-01-09 06:44\n"
     ]
    }
   ],
   "source": [
    "replyName = content.find('li', class_='replyName').text\n",
    "print(replyName)\n",
    "\n",
    "replyMsg_org = content.find('li', class_='replyMsg').text\n",
    "replyMsg = replyMsg_org[3:11]\n",
    "print(replyMsg)\n",
    "\n",
    "#replace \"xa0\" with space\n",
    "replyDate = replyMsg_org[11:].replace(u'\\xa0', u' ')\n",
    "print(replyDate)"
   ]
  },
  {
   "cell_type": "code",
   "execution_count": 83,
   "metadata": {},
   "outputs": [
    {
     "name": "stdout",
     "output_type": "stream",
     "text": [
      "衡水市枣强县农村晚上取暖没有气怎么办，煤改气是保护环境了，晚上停气早上供气，老百姓怎么取暖.\n"
     ]
    }
   ],
   "source": [
    "replyContentMain = content.find('p', class_='replyContentMain').text\n",
    "print(replyContentMain)"
   ]
  },
  {
   "cell_type": "code",
   "execution_count": 101,
   "metadata": {},
   "outputs": [
    {
     "name": "stdout",
     "output_type": "stream",
     "text": [
      "办理中\n",
      "2023-01-11 00:29\n",
      "您的留言我们已收到！您反映的问题已转相关部门处理，感谢您的宝贵留言！\n"
     ]
    }
   ],
   "source": [
    "if stateInfo == '待回复':\n",
    "    print('待回复')\n",
    "else:\n",
    "    print(stateInfo)\n",
    "    handleTime = content.find('div', class_='handleTime').text.replace(u'\\xa0', u' ')\n",
    "    print(handleTime)\n",
    "    handleContent = content.find('p', class_='handleContent').text\n",
    "    print(handleContent)\n"
   ]
  },
  {
   "cell_type": "code",
   "execution_count": 106,
   "metadata": {},
   "outputs": [
    {
     "data": {
      "text/plain": [
       "['农村煤改气，现在晚上没气取暖',\n",
       " '留言对象：河北省委书记倪岳峰',\n",
       " '农村煤改气，现在晚上没气取暖',\n",
       " ' 投诉/求助 ',\n",
       " '三农',\n",
       " '办理中',\n",
       " '么***',\n",
       " '17117507',\n",
       " '2023-01-09 06:44',\n",
       " '衡水市枣强县农村晚上取暖没有气怎么办，煤改气是保护环境了，晚上停气早上供气，老百姓怎么取暖.',\n",
       " '2023-01-11 00:29',\n",
       " '您的留言我们已收到！您反映的问题已转相关部门处理，感谢您的宝贵留言！']"
      ]
     },
     "execution_count": 106,
     "metadata": {},
     "output_type": "execute_result"
    }
   ],
   "source": [
    "single_reply = [title, reply_object, replyInfoHead, typeNameD, domainName, stateInfo, replyName, replyMsg, replyDate, replyContentMain, handleTime, handleContent]\n",
    "single_reply"
   ]
  },
  {
   "cell_type": "code",
   "execution_count": 57,
   "metadata": {},
   "outputs": [
    {
     "name": "stdout",
     "output_type": "stream",
     "text": [
      "待回复\n"
     ]
    }
   ],
   "source": [
    "import time \n",
    "from bs4 import BeautifulSoup\n",
    "import requests\n",
    "import pandas as pd\n",
    "import random\n",
    "import datetime\n",
    "import csv\n",
    "import undetected_chromedriver as uc\n",
    "import pandas as pd\n",
    "\n",
    "\n",
    "url = 'http://liuyan.people.com.cn/threads/content?tid=17188030&from=search'\n",
    "driver = uc.Chrome()\n",
    "driver.get(url)\n",
    "content = BeautifulSoup(driver.page_source, 'html.parser')\n",
    "\n",
    "title = content.find('h1', class_='fl').text\n",
    "reply_object = content.find('div', class_='replyObject').text[5:]\n",
    "typeNameD = content.find('p', class_='typeNameD').text \n",
    "domainName = content.find('p', class_='domainName').text\n",
    "stateInfo = content.find('p', class_='stateInfo').text\n",
    "\n",
    "replyInfoHead = content.find('h1', class_='fl').text\n",
    "replyName = content.find('li', class_='replyName').text\n",
    "replyMsg_org = content.find('li', class_='replyMsg').text\n",
    "\n",
    "replyID = replyMsg_org[3:11]\n",
    "replyDate = replyMsg_org[11:].replace(u'\\xa0', u' ')\n",
    "replyContentMain = content.find('p', class_='replyContentMain').text\n",
    "\n",
    "if stateInfo == '待回复':\n",
    "    print('待回复')\n",
    "else:\n",
    "    handleTime = content.find('div', class_='handleTime').text.replace(u'\\xa0', u' ')\n",
    "    handleContent = content.find('p', class_='handleContent').text\n",
    "\n",
    "single_reply = {}\n",
    "\n",
    "single_reply['title'] = title\n",
    "single_reply['reply_object'] = reply_object\n",
    "single_reply['replyInfoHead'] = replyInfoHead\n",
    "single_reply['typeNameD'] = typeNameD\n",
    "single_reply['domainName'] = domainName\n",
    "single_reply['stateInfo'] = stateInfo\n",
    "single_reply['replyName'] = replyName\n",
    "single_reply['replyID'] = replyID\n",
    "single_reply['replyDate'] = replyDate\n",
    "single_reply['replyContentMain'] = replyContentMain\n",
    "single_reply['handleTime'] = handleTime\n",
    "single_reply['handleContent'] = handleContent\n",
    "\n",
    "previewPic = content.find_all('div', class_='previewPic')\n",
    "if previewPic == None:\n",
    "    print('no pic')\n",
    "else:\n",
    "    a = 0\n",
    "    for i in previewPic:\n",
    "        a = a + 1\n",
    "        #save the picture\n",
    "        pic_url = i.find('img')['src']\n",
    "        pic_name = replyID + '-' + str(a) + '.jpg'\n",
    "        print(pic_url)\n",
    "        print(pic_name)\n",
    "        #using undetected_chromedriver to save the picture\n",
    "        driver.get(pic_url)\n",
    "        driver.save_screenshot(pic_name)\n",
    "        time.sleep(1)\n",
    "    \n"
   ]
  },
  {
   "cell_type": "code",
   "execution_count": null,
   "metadata": {},
   "outputs": [],
   "source": []
  },
  {
   "cell_type": "code",
   "execution_count": 58,
   "metadata": {},
   "outputs": [],
   "source": []
  },
  {
   "cell_type": "code",
   "execution_count": 59,
   "metadata": {},
   "outputs": [
    {
     "data": {
      "text/plain": [
       "{'title': '农民吃不上年夜饭',\n",
       " 'reply_object': '四川省内江市隆昌县委书记',\n",
       " 'replyInfoHead': '农民吃不上年夜饭',\n",
       " 'typeNameD': ' 投诉/求助 ',\n",
       " 'domainName': '三农',\n",
       " 'stateInfo': '待回复',\n",
       " 'replyName': '范***',\n",
       " 'replyID': '17188030',\n",
       " 'replyDate': '2023-01-20 21:05',\n",
       " 'replyContentMain': '光辉村三组，村民响应国家号召不烧柴灶，安装天燃气，而每到过年的时候就停气，不说吃上年夜饭，就烧点热水都不行，希望领导们能抽空看看',\n",
       " 'handleTime': '2022-03-12 04:18',\n",
       " 'handleContent': '您好，首先感谢您对我们工作的关注和支持。经核实，朗诗未来街区属于西安沣东华能热力有限公司市政集中供热服务区域范围，目前该项目周边道路尚未开始建设，热力管道需随道路同步实施。根据《西安市集中供热条例》第十七条，新建、改建、扩建民用建筑需要实行集中供热的，建设单位应当向建设工程所在区域的供热企业提出申请，项目建设前期热力公司曾与开发商对接供暖事宜，后期因开发商原因，此项目暂停，如小区业主有集中供热需求，可向小区开发商、物业提出诉求。沣东新城工作人员2022年3月8日与您取得联系，向您解释了小区供热相关情况，欢迎您继续关注并监督我们的工作！（经办人：赵子龙 电话：89500380）'}"
      ]
     },
     "execution_count": 59,
     "metadata": {},
     "output_type": "execute_result"
    }
   ],
   "source": [
    "single_reply"
   ]
  },
  {
   "cell_type": "code",
   "execution_count": null,
   "metadata": {},
   "outputs": [],
   "source": []
  }
 ],
 "metadata": {
  "kernelspec": {
   "display_name": "Python 3",
   "language": "python",
   "name": "python3"
  },
  "language_info": {
   "codemirror_mode": {
    "name": "ipython",
    "version": 3
   },
   "file_extension": ".py",
   "mimetype": "text/x-python",
   "name": "python",
   "nbconvert_exporter": "python",
   "pygments_lexer": "ipython3",
   "version": "3.11.0rc2 (main, Oct 27 2022, 13:38:33) [Clang 14.0.0 (clang-1400.0.29.102)]"
  },
  "orig_nbformat": 4,
  "vscode": {
   "interpreter": {
    "hash": "e90d6f730404473425c714071b0fe103c0a531102113070eae46c99bdeea19ae"
   }
  }
 },
 "nbformat": 4,
 "nbformat_minor": 2
}
