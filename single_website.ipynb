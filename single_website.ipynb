{
 "cells": [
  {
   "cell_type": "code",
   "execution_count": 6,
   "metadata": {},
   "outputs": [],
   "source": [
    "import time \n",
    "from bs4 import BeautifulSoup\n",
    "import requests\n",
    "import pandas as pd\n",
    "import random\n",
    "\n"
   ]
  },
  {
   "cell_type": "code",
   "execution_count": 4,
   "metadata": {},
   "outputs": [],
   "source": [
    "url = 'http://liuyan.people.com.cn/threads/content?tid=17196835&from=search'\n",
    "\n",
    "response = requests.get(url)\n",
    "response.encoding = 'utf-8'\n",
    "soup = BeautifulSoup(response.text, 'html.parser')\n"
   ]
  },
  {
   "cell_type": "code",
   "execution_count": 5,
   "metadata": {},
   "outputs": [
    {
     "data": {
      "text/plain": [
       "<!DOCTYPE html>\n",
       "\n",
       "<html>\n",
       "<head>\n",
       "<meta charset=\"utf-8\"/>\n",
       "<style>\n",
       "body{ background:#fff; font-family: microsoft yahei; color:#969696; font-size:14px;}\n",
       ".online-desc-con { text-align:center; }\n",
       ".r-tip01 { color: #333; font-size: 18px; display: block; text-align: center; width: 600px; padding: 0 10px; overflow: hidden; text-overflow: ellipsis; margin: 0 auto 15px; }\n",
       ".r-tip02 { color: #585858; font-size: 14px; display: block; margin-top: 20px; margin-bottom: 20px; }\n",
       "#notice-jiasule {\n",
       "  word-wrap: break-word;\n",
       "  word-break: normal;\n",
       "  color:#585858;\n",
       "  border:1px solid #ddd;\n",
       "  padding:0px 20px 0px 20px\n",
       "}\n",
       "img { border: 0; }\n",
       ".u-ico{ vertical-align: middle; margin-right: 12px;}\n",
       ".btn{ padding: 8px 22px; border-radius: 3px; border: 0; display: inline-block;vertical-align: middle;text-decoration: none;}\n",
       ".btn-g{ background-color: #61b25e; color: #fff;}\n",
       ".report {color: #858585; text-decoration: none;}\n",
       ".report:hover {text-decoration: underline; color: #0088CC;}\n",
       "hr{ border-top: 1px dashed #ddd;}\n",
       "center{ line-height: 48px; color: #919191;}\n",
       ".b-box {background: #0B6FD6;margin: -8px -8px 0 -8px;height: 32px;}\n",
       ".b-body {position: relative;left:50%;max-width: 1200px;transform: translateX(-50%);padding-top: 5px;white-space:nowrap;}\n",
       ".b-ico-box {display: inline-block;margin-right: 4px;}\n",
       ".b-ico {height: 18px;width: 18px;}\n",
       ".b-msg-box {display: inline-block;font-size: 14px;color: #fff;width: 96%;white-space:nowrap;overflow:hidden;}\n",
       ".b-msg {display: inline-block;font-size: 14px;color: #fff;padding-right: 20px;}\n",
       "</style>\n",
       "</head>\n",
       "<body>\n",
       "<div class=\"b-box\"><div class=\"b-body\"><div class=\"b-ico-box\"><img alt=\"\" class=\"b-ico\" src=\"/cdn-cgi/image/alt.svg\"/></div><div class=\"b-msg-box\" id=\"msg-box\"><a class=\"b-msg\" href=\"#\" id=\"flink\"></a><a class=\"b-msg\" href=\"#\" id=\"slink\"></a></div></div></div>\n",
       "<div class=\"online-desc-con\" style=\"width:640px;padding-top:15px;margin:34px auto;\">\n",
       "<img alt=\"\" id=\"wafblock\" style=\"margin: 0 auto 17px auto;\">\n",
       "<div id=\"content_rendered\">\n",
       "<span class=\"r-tip01\" id=\"error_403\"></span>\n",
       "<span class=\"r-tip01\" id=\"error_403_en\"></span>\n",
       "<div id=\"notice-jiasule\">\n",
       "<p>当前网址：<span id=\"url\"></span></p>\n",
       "<p>客户端特征：<span id=\"user_agent\"></span></p>\n",
       "<p>拦截时间：<span id=\"now\"></span>  本次事件ID <span id=\"rule_id\"></span></p>\n",
       "</div>\n",
       "<span class=\"r-tip02\">\n",
       "<img alt=\"\" class=\"u-ico\" src=\"/cdn-cgi/image/guest.png\"/>如果您是网站管理员，请登录知道创宇云防御 \n",
       "            <a class=\"btn btn-g\" href=\"#\" id=\"detail-link\" target=\"_blank\">查看详情</a>\n",
       "             或者 \n",
       "            <a class=\"report\" href=\"#\" id=\"report-link\" target=\"_blank\">反馈误报</a>\n",
       "</span>\n",
       "</div>\n",
       "<hr/>\n",
       "<center>client: <span id=\"client_ip\"></span>, server: 578e188, time: <span id=\"time_error\"></span></center>\n",
       "</img></div>\n",
       "<script>\n",
       "    void(function fuckie6(){if(location.hash && /MSIE 6/.test(navigator.userAgent) && !/jsl_sec/.test(location.href)){location.href = location.href.split('#')[0] + '&jsl_sec' + location.hash}})();\n",
       "    var data = {\"t_msg\":\"国内权威咨询机构“赛迪顾问”发布最新研究报告 --《中国云抗 DDOS 市场研究报告（2022）》知道创宇【抗D保】凭借众多案例、超强云防御服务能力位居《2021 年中国云抗 DDoS 厂商竞争力象限图》领导者象限\",\"rule_id\":\"80001\",\"error_403\":\"\",\"t_link\":\"https:\\/\\/mp.weixin.qq.com\\/s\\/udG1z-Py48NBkyXYQ3ciZA\",\"client_ip\":\"158.222.198.119\",\"time_error\":\"26\\/Jan\\/2023:14:53:04 +0800\",\"error_403_en\":\"Knownsec CloudWAF: Your request has been blocked due to suspected hacking\",\"error_403_type\":\"\"};\n",
       "    var from = encodeURIComponent(document.referrer.substr(0, 1024));\n",
       "    var rule_id = parseInt(data['rule_id']) || '';\n",
       "    var client_ip = data['client_ip'];\n",
       "    var ref = encodeURIComponent(document.URL.substr(0, 1024));\n",
       "    document.getElementById(\"wafblock\").src = '/cdn-cgi/image/' + (data['error_403_type'] || 'hacker') + '.png';\n",
       "    document.getElementById('error_403').innerText = data['error_403'] || '当前访问疑似黑客攻击，已被网站管理员设置为拦截';\n",
       "    document.getElementById('error_403_en').innerText = data['error_403_en'];\n",
       "    document.getElementById('url').innerText = document.URL.replace(/\\</g,\"%3C\").replace(/\\>/g,\"%3E\");\n",
       "    document.getElementById('user_agent').innerText = navigator.userAgent;\n",
       "    document.getElementById('now').innerText = new Date(new Date() - -8 * 3600000).toISOString().substr(0, 19).replace('T', ' ');\n",
       "    document.getElementById('rule_id').innerText = rule_id;\n",
       "    document.getElementById('client_ip').innerText = client_ip;\n",
       "    document.getElementById('time_error').innerText = data['time_error'];\n",
       "    document.getElementById('detail-link').href = 'http://help.yunaq.com/feedback.html?from=' + from + '&rule_id=' + rule_id + '&client_ip=' + client_ip + '&referrer=' + ref + '#pus';\n",
       "    document.getElementById('report-link').href = 'http://help.yunaq.com/feedback.html?from=' + from + '&rule_id=' + rule_id + '&client_ip=' + client_ip + '&referrer=' + ref + '#hus';\n",
       "    function getOffsetLimit(msgW, boxW, pad) {var limit = init = 0;if (msgW+pad>boxW){limit = msgW+pad;if (msgW + pad - boxW > 20){init = pad}}else{limit = (msgW+pad)*2;init = -boxW}return {limit: limit, init: init}};\n",
       "    var fst = document.getElementById('flink');\n",
       "    var last = document.getElementById('slink');\n",
       "    fst.innerText = last.innerText = data['t_msg'];\n",
       "    fst.href = last.href = data['t_link'];\n",
       "    var msgW = fst.getBoundingClientRect().width;\n",
       "    var msgBox = document.getElementById('msg-box');\n",
       "    var boxW = msgBox.getBoundingClientRect().width;\n",
       "    var run = getOffsetLimit(msgW, boxW, 20);\n",
       "    var ofst = 0;\n",
       "    function runner() {ofst = ofst >= run.limit ? run.init : (ofst + 2);fst.style.transform = 'translateX('+(-ofst)+'px)';last.style.transform = 'translateX('+(-ofst)+'px)';};\n",
       "    setInterval(runner, 100);\n",
       "</script>\n",
       "</body>\n",
       "</html>"
      ]
     },
     "execution_count": 5,
     "metadata": {},
     "output_type": "execute_result"
    }
   ],
   "source": [
    "soup"
   ]
  },
  {
   "cell_type": "code",
   "execution_count": null,
   "metadata": {},
   "outputs": [],
   "source": []
  }
 ],
 "metadata": {
  "kernelspec": {
   "display_name": "Python 3",
   "language": "python",
   "name": "python3"
  },
  "language_info": {
   "codemirror_mode": {
    "name": "ipython",
    "version": 3
   },
   "file_extension": ".py",
   "mimetype": "text/x-python",
   "name": "python",
   "nbconvert_exporter": "python",
   "pygments_lexer": "ipython3",
   "version": "3.11.0rc2"
  },
  "orig_nbformat": 4,
  "vscode": {
   "interpreter": {
    "hash": "e90d6f730404473425c714071b0fe103c0a531102113070eae46c99bdeea19ae"
   }
  }
 },
 "nbformat": 4,
 "nbformat_minor": 2
}
